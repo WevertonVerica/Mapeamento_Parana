{
 "cells": [
  {
   "cell_type": "code",
   "execution_count": 1,
   "id": "0d38f26a",
   "metadata": {},
   "outputs": [],
   "source": [
    "import rasterio\n",
    "import matplotlib.pyplot as plt\n",
    "import pandas as pd\n",
    "from matplotlib import pyplot\n",
    "import numpy as np\n",
    "import glob\n",
    "from natsort import natsorted\n",
    "import requests\n",
    "from bs4 import BeautifulSoup\n",
    "from datetime import datetime\n",
    "import os"
   ]
  },
  {
   "cell_type": "code",
   "execution_count": null,
   "id": "b9cfad88",
   "metadata": {},
   "outputs": [],
   "source": [
    "# muda o diretório para \"/caminho/novo/diretorio\"\n",
    "os.chdir(\"/Users/wever/Documents/Analise de dados/20230510 - Mapear Paraná usando imagens EVI MODIS/1 - Dados originais\")"
   ]
  },
  {
   "cell_type": "markdown",
   "id": "16bb25ef",
   "metadata": {},
   "source": [
    "baixando as imagens"
   ]
  },
  {
   "cell_type": "code",
   "execution_count": null,
   "id": "81a9e0ea",
   "metadata": {},
   "outputs": [],
   "source": [
    "terra = ['MOD13Q1.20200101.250m_16_dias_EVI_PR.tif',\n",
    "'MOD13Q1.20200117.250m_16_dias_EVI_PR.tif',\n",
    "'MOD13Q1.20200202.250m_16_dias_EVI_PR.tif',\n",
    "'MOD13Q1.20200305.250m_16_dias_EVI_PR.tif',\n",
    "'MOD13Q1.20200321.250m_16_dias_EVI_PR.tif',\n",
    "'MOD13Q1.20200406.250m_16_dias_EVI_PR.tif',\n",
    "'MOD13Q1.20200422.250m_16_dias_EVI_PR.tif',\n",
    "'MOD13Q1.20200508.250m_16_dias_EVI_PR.tif',\n",
    "'MOD13Q1.20200524.250m_16_dias_EVI_PR.tif',\n",
    "'MOD13Q1.20200609.250m_16_dias_EVI_PR.tif',\n",
    "'MOD13Q1.20200625.250m_16_dias_EVI_PR.tif',\n",
    "'MOD13Q1.20200711.250m_16_dias_EVI_PR.tif',\n",
    "'MOD13Q1.20200727.250m_16_dias_EVI_PR.tif',\n",
    "'MOD13Q1.20200812.250m_16_dias_EVI_PR.tif',\n",
    "'MOD13Q1.20200828.250m_16_dias_EVI_PR.tif',\n",
    "'MOD13Q1.20200913.250m_16_dias_EVI_PR.tif',\n",
    "'MOD13Q1.20200929.250m_16_dias_EVI_PR.tif',\n",
    "'MOD13Q1.20201031.250m_16_dias_EVI_PR.tif',\n",
    "'MOD13Q1.20201116.250m_16_dias_EVI_PR.tif',\n",
    "'MOD13Q1.20201202.250m_16_dias_EVI_PR.tif',\n",
    "'MOD13Q1.20201218.250m_16_dias_EVI_PR.tif',\n",
    "'MOD13Q1.20210101.250m_16_dias_EVI_PR.tif']"
   ]
  },
  {
   "cell_type": "code",
   "execution_count": null,
   "id": "7b3e0906",
   "metadata": {},
   "outputs": [],
   "source": [
    "t = 'http://www.modis.cnptia.embrapa.br/BANCO_MODIS/TERRA/PR/EVI/'"
   ]
  },
  {
   "cell_type": "code",
   "execution_count": null,
   "id": "0a64918e",
   "metadata": {},
   "outputs": [],
   "source": [
    "h = list(range(0, len(terra)))\n",
    "for i in range(0,len(terra)):\n",
    "    h[i] = t + terra[i]\n",
    "h"
   ]
  },
  {
   "cell_type": "code",
   "execution_count": null,
   "id": "5e2f1a87",
   "metadata": {},
   "outputs": [],
   "source": [
    "for i in range(0,len(terra)-1):\n",
    "    url = h[i]\n",
    "    file_name = terra[i]\n",
    "    response = requests.get(url)\n",
    "    with open(file_name, 'wb') as f:\n",
    "        f.write(response.content)"
   ]
  },
  {
   "cell_type": "code",
   "execution_count": null,
   "id": "9af5ad00",
   "metadata": {},
   "outputs": [],
   "source": [
    "agua = ['MYD13Q1.20200109.250m_16_dias_EVI_PR.tif',\n",
    "'MYD13Q1.20200125.250m_16_dias_EVI_PR.tif',\n",
    "'MYD13Q1.20200210.250m_16_dias_EVI_PR.tif',\n",
    "'MYD13Q1.20200313.250m_16_dias_EVI_PR.tif',\n",
    "'MYD13Q1.20200329.250m_16_dias_EVI_PR.tif',\n",
    "'MYD13Q1.20200414.250m_16_dias_EVI_PR.tif',\n",
    "'MYD13Q1.20200430.250m_16_dias_EVI_PR.tif',\n",
    "'MYD13Q1.20200516.250m_16_dias_EVI_PR.tif',\n",
    "'MYD13Q1.20200601.250m_16_dias_EVI_PR.tif',\n",
    "'MYD13Q1.20200617.250m_16_dias_EVI_PR.tif',\n",
    "'MYD13Q1.20200703.250m_16_dias_EVI_PR.tif',\n",
    "'MYD13Q1.20200719.250m_16_dias_EVI_PR.tif',\n",
    "'MYD13Q1.20200804.250m_16_dias_EVI_PR.tif',\n",
    "'MYD13Q1.20200905.250m_16_dias_EVI_PR.tif',\n",
    "'MYD13Q1.20200921.250m_16_dias_EVI_PR.tif',\n",
    "'MYD13Q1.20201007.250m_16_dias_EVI_PR.tif',\n",
    "'MYD13Q1.20201023.250m_16_dias_EVI_PR.tif',\n",
    "'MYD13Q1.20201108.250m_16_dias_EVI_PR.tif',\n",
    "'MYD13Q1.20201124.250m_16_dias_EVI_PR.tif',\n",
    "'MYD13Q1.20201210.250m_16_dias_EVI_PR.tif',\n",
    "'MYD13Q1.20201226.250m_16_dias_EVI_PR.tif']"
   ]
  },
  {
   "cell_type": "code",
   "execution_count": null,
   "id": "f4640190",
   "metadata": {},
   "outputs": [],
   "source": [
    "a = 'http://www.modis.cnptia.embrapa.br/BANCO_MODIS/AQUA/PR/EVI/'\n",
    "h = list(range(0, len(agua)))\n",
    "for i in range(0,len(agua)):\n",
    "    h[i] = a + agua[i]\n",
    "h"
   ]
  },
  {
   "cell_type": "code",
   "execution_count": null,
   "id": "c8f49139",
   "metadata": {},
   "outputs": [],
   "source": [
    "for i in range(0,len(agua)-1):\n",
    "    url = h[i]\n",
    "    file_name = agua[i]\n",
    "    response = requests.get(url)\n",
    "    with open(file_name, 'wb') as f:\n",
    "        f.write(response.content)"
   ]
  }
 ],
 "metadata": {
  "kernelspec": {
   "display_name": "Python 3 (ipykernel)",
   "language": "python",
   "name": "python3"
  },
  "language_info": {
   "codemirror_mode": {
    "name": "ipython",
    "version": 3
   },
   "file_extension": ".py",
   "mimetype": "text/x-python",
   "name": "python",
   "nbconvert_exporter": "python",
   "pygments_lexer": "ipython3",
   "version": "3.9.13"
  }
 },
 "nbformat": 4,
 "nbformat_minor": 5
}
